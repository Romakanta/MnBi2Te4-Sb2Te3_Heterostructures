{
 "cells": [
  {
   "cell_type": "code",
   "execution_count": 4,
   "metadata": {},
   "outputs": [],
   "source": [
    "from ase.io import read\n",
    "import glob\n",
    "import json\n",
    "import pandas as pd\n"
   ]
  },
  {
   "cell_type": "code",
   "execution_count": 5,
   "metadata": {},
   "outputs": [],
   "source": [
    "MBT_structs=[read(f) for f in glob.glob(\"../MBT_CONTCARs/*\")]"
   ]
  },
  {
   "cell_type": "code",
   "execution_count": 17,
   "metadata": {},
   "outputs": [],
   "source": [
    "BT_list = [['Sn2Se3', '4.038781144'],\n",
    " ['Sb2Se3', '4.06992889'],\n",
    " ['Bi2Se3', '4.194676664'],\n",
    " ['Sn2Te3', '4.291883577'],\n",
    " ['Sb2Te3', '4.31794973'],\n",
    " ['Bi2Te3', '4.435656257']]\n",
    "\n",
    "BT_list = [(a[0],float(a[1])) for a in BT_list]"
   ]
  },
  {
   "cell_type": "code",
   "execution_count": 21,
   "metadata": {},
   "outputs": [
    {
     "data": {
      "text/plain": [
       "'MnAgBi4S8'"
      ]
     },
     "execution_count": 21,
     "metadata": {},
     "output_type": "execute_result"
    }
   ],
   "source": [
    "str(MBT.symbols)"
   ]
  },
  {
   "cell_type": "code",
   "execution_count": 47,
   "metadata": {},
   "outputs": [],
   "source": [
    "mismatch_list=[]\n",
    "for BT,BT_a in BT_list:\n",
    "    for MBT in MBT_structs:\n",
    "        MBT_a=MBT.cell.cellpar()[1]\n",
    "        mismatch_list.append([BT,str(MBT.symbols),BT_a,MBT_a,abs((BT_a-MBT_a)/MBT_a)*100,abs((MBT_a-BT_a)/BT_a)*100])\n",
    "\n",
    "mismatch_df=pd.DataFrame(data=mismatch_list,columns=[\"BT\",\"MBT\",\"BT_a\",\"MBT_a\",\"MBT_mismatch\",\"BT_mismatch\"])\n",
    "mismatch_df[\"HS_a\"]=(mismatch_df.BT_a+mismatch_df.MBT_a)/2\n",
    "mismatch_df[\"MBT_strain\"]=(mismatch_df.MBT_a/mismatch_df.HS_a-1)*100\n",
    "mismatch_df[\"BT_strain\"]=(mismatch_df.BT_a/mismatch_df.HS_a-1)*100\n"
   ]
  },
  {
   "cell_type": "code",
   "execution_count": 53,
   "metadata": {},
   "outputs": [
    {
     "data": {
      "text/html": [
       "<div>\n",
       "<style scoped>\n",
       "    .dataframe tbody tr th:only-of-type {\n",
       "        vertical-align: middle;\n",
       "    }\n",
       "\n",
       "    .dataframe tbody tr th {\n",
       "        vertical-align: top;\n",
       "    }\n",
       "\n",
       "    .dataframe thead th {\n",
       "        text-align: right;\n",
       "    }\n",
       "</style>\n",
       "<table border=\"1\" class=\"dataframe\">\n",
       "  <thead>\n",
       "    <tr style=\"text-align: right;\">\n",
       "      <th></th>\n",
       "      <th>BT</th>\n",
       "      <th>MBT</th>\n",
       "      <th>BT_a</th>\n",
       "      <th>MBT_a</th>\n",
       "      <th>MBT_mismatch</th>\n",
       "      <th>BT_mismatch</th>\n",
       "      <th>HS_a</th>\n",
       "      <th>MBT_strain</th>\n",
       "      <th>BT_strain</th>\n",
       "    </tr>\n",
       "  </thead>\n",
       "  <tbody>\n",
       "    <tr>\n",
       "      <th>1196</th>\n",
       "      <td>Sb2Te3</td>\n",
       "      <td>Mn2Sb4Te8</td>\n",
       "      <td>4.317950</td>\n",
       "      <td>4.317121</td>\n",
       "      <td>0.019202</td>\n",
       "      <td>0.019198</td>\n",
       "      <td>4.317535</td>\n",
       "      <td>-0.009600</td>\n",
       "      <td>0.009600</td>\n",
       "    </tr>\n",
       "    <tr>\n",
       "      <th>761</th>\n",
       "      <td>Sn2Te3</td>\n",
       "      <td>MnCrPb4Te8</td>\n",
       "      <td>4.291884</td>\n",
       "      <td>4.292716</td>\n",
       "      <td>0.019385</td>\n",
       "      <td>0.019389</td>\n",
       "      <td>4.292300</td>\n",
       "      <td>0.009694</td>\n",
       "      <td>-0.009694</td>\n",
       "    </tr>\n",
       "    <tr>\n",
       "      <th>722</th>\n",
       "      <td>Sn2Te3</td>\n",
       "      <td>MnAgBi4Te8</td>\n",
       "      <td>4.291884</td>\n",
       "      <td>4.292730</td>\n",
       "      <td>0.019715</td>\n",
       "      <td>0.019719</td>\n",
       "      <td>4.292307</td>\n",
       "      <td>0.009859</td>\n",
       "      <td>-0.009859</td>\n",
       "    </tr>\n",
       "    <tr>\n",
       "      <th>1109</th>\n",
       "      <td>Sb2Te3</td>\n",
       "      <td>MnScPb4Te8</td>\n",
       "      <td>4.317950</td>\n",
       "      <td>4.319115</td>\n",
       "      <td>0.026976</td>\n",
       "      <td>0.026984</td>\n",
       "      <td>4.318532</td>\n",
       "      <td>0.013490</td>\n",
       "      <td>-0.013490</td>\n",
       "    </tr>\n",
       "    <tr>\n",
       "      <th>1052</th>\n",
       "      <td>Sb2Te3</td>\n",
       "      <td>MnNbSb4Te8</td>\n",
       "      <td>4.317950</td>\n",
       "      <td>4.320710</td>\n",
       "      <td>0.063881</td>\n",
       "      <td>0.063922</td>\n",
       "      <td>4.319330</td>\n",
       "      <td>0.031951</td>\n",
       "      <td>-0.031951</td>\n",
       "    </tr>\n",
       "    <tr>\n",
       "      <th>...</th>\n",
       "      <td>...</td>\n",
       "      <td>...</td>\n",
       "      <td>...</td>\n",
       "      <td>...</td>\n",
       "      <td>...</td>\n",
       "      <td>...</td>\n",
       "      <td>...</td>\n",
       "      <td>...</td>\n",
       "      <td>...</td>\n",
       "    </tr>\n",
       "    <tr>\n",
       "      <th>949</th>\n",
       "      <td>Sn2Te3</td>\n",
       "      <td>Mn2Bi4Se8</td>\n",
       "      <td>4.291884</td>\n",
       "      <td>4.123704</td>\n",
       "      <td>4.078350</td>\n",
       "      <td>3.918538</td>\n",
       "      <td>4.207794</td>\n",
       "      <td>-1.998423</td>\n",
       "      <td>1.998423</td>\n",
       "    </tr>\n",
       "    <tr>\n",
       "      <th>471</th>\n",
       "      <td>Sb2Se3</td>\n",
       "      <td>Mn2Pb4S8</td>\n",
       "      <td>4.069929</td>\n",
       "      <td>3.910412</td>\n",
       "      <td>4.079282</td>\n",
       "      <td>3.919399</td>\n",
       "      <td>3.990171</td>\n",
       "      <td>-1.998871</td>\n",
       "      <td>1.998871</td>\n",
       "    </tr>\n",
       "    <tr>\n",
       "      <th>901</th>\n",
       "      <td>Sn2Te3</td>\n",
       "      <td>MnVBi4Se8</td>\n",
       "      <td>4.291884</td>\n",
       "      <td>4.123613</td>\n",
       "      <td>4.080651</td>\n",
       "      <td>3.920663</td>\n",
       "      <td>4.207748</td>\n",
       "      <td>-1.999529</td>\n",
       "      <td>1.999529</td>\n",
       "    </tr>\n",
       "    <tr>\n",
       "      <th>99</th>\n",
       "      <td>Sn2Se3</td>\n",
       "      <td>MnNiPb4S8</td>\n",
       "      <td>4.038781</td>\n",
       "      <td>3.880419</td>\n",
       "      <td>4.081047</td>\n",
       "      <td>3.921028</td>\n",
       "      <td>3.959600</td>\n",
       "      <td>-1.999719</td>\n",
       "      <td>1.999719</td>\n",
       "    </tr>\n",
       "    <tr>\n",
       "      <th>1289</th>\n",
       "      <td>Bi2Te3</td>\n",
       "      <td>MnNbPb4Te8</td>\n",
       "      <td>4.435656</td>\n",
       "      <td>4.261472</td>\n",
       "      <td>4.087411</td>\n",
       "      <td>3.926902</td>\n",
       "      <td>4.348564</td>\n",
       "      <td>-2.002775</td>\n",
       "      <td>2.002775</td>\n",
       "    </tr>\n",
       "  </tbody>\n",
       "</table>\n",
       "<p>600 rows × 9 columns</p>\n",
       "</div>"
      ],
      "text/plain": [
       "          BT         MBT      BT_a     MBT_a  MBT_mismatch  BT_mismatch  \\\n",
       "1196  Sb2Te3   Mn2Sb4Te8  4.317950  4.317121      0.019202     0.019198   \n",
       "761   Sn2Te3  MnCrPb4Te8  4.291884  4.292716      0.019385     0.019389   \n",
       "722   Sn2Te3  MnAgBi4Te8  4.291884  4.292730      0.019715     0.019719   \n",
       "1109  Sb2Te3  MnScPb4Te8  4.317950  4.319115      0.026976     0.026984   \n",
       "1052  Sb2Te3  MnNbSb4Te8  4.317950  4.320710      0.063881     0.063922   \n",
       "...      ...         ...       ...       ...           ...          ...   \n",
       "949   Sn2Te3   Mn2Bi4Se8  4.291884  4.123704      4.078350     3.918538   \n",
       "471   Sb2Se3    Mn2Pb4S8  4.069929  3.910412      4.079282     3.919399   \n",
       "901   Sn2Te3   MnVBi4Se8  4.291884  4.123613      4.080651     3.920663   \n",
       "99    Sn2Se3   MnNiPb4S8  4.038781  3.880419      4.081047     3.921028   \n",
       "1289  Bi2Te3  MnNbPb4Te8  4.435656  4.261472      4.087411     3.926902   \n",
       "\n",
       "          HS_a  MBT_strain  BT_strain  \n",
       "1196  4.317535   -0.009600   0.009600  \n",
       "761   4.292300    0.009694  -0.009694  \n",
       "722   4.292307    0.009859  -0.009859  \n",
       "1109  4.318532    0.013490  -0.013490  \n",
       "1052  4.319330    0.031951  -0.031951  \n",
       "...        ...         ...        ...  \n",
       "949   4.207794   -1.998423   1.998423  \n",
       "471   3.990171   -1.998871   1.998871  \n",
       "901   4.207748   -1.999529   1.999529  \n",
       "99    3.959600   -1.999719   1.999719  \n",
       "1289  4.348564   -2.002775   2.002775  \n",
       "\n",
       "[600 rows x 9 columns]"
      ]
     },
     "execution_count": 53,
     "metadata": {},
     "output_type": "execute_result"
    }
   ],
   "source": [
    "mismatch_df.sort_values(by=\"MBT_mismatch\").iloc[0:600]"
   ]
  },
  {
   "cell_type": "code",
   "execution_count": 41,
   "metadata": {},
   "outputs": [
    {
     "data": {
      "text/html": [
       "<div>\n",
       "<style scoped>\n",
       "    .dataframe tbody tr th:only-of-type {\n",
       "        vertical-align: middle;\n",
       "    }\n",
       "\n",
       "    .dataframe tbody tr th {\n",
       "        vertical-align: top;\n",
       "    }\n",
       "\n",
       "    .dataframe thead th {\n",
       "        text-align: right;\n",
       "    }\n",
       "</style>\n",
       "<table border=\"1\" class=\"dataframe\">\n",
       "  <thead>\n",
       "    <tr style=\"text-align: right;\">\n",
       "      <th></th>\n",
       "      <th>BT</th>\n",
       "      <th>MBT</th>\n",
       "      <th>BT_a</th>\n",
       "      <th>MBT_a</th>\n",
       "      <th>MBT_mismatch</th>\n",
       "      <th>BT_mismatch</th>\n",
       "    </tr>\n",
       "  </thead>\n",
       "  <tbody>\n",
       "    <tr>\n",
       "      <th>190</th>\n",
       "      <td>Sn2Se3</td>\n",
       "      <td>MnVSn4Se8</td>\n",
       "      <td>4.038781</td>\n",
       "      <td>3.955547</td>\n",
       "      <td>2.104233</td>\n",
       "      <td>2.060868</td>\n",
       "    </tr>\n",
       "    <tr>\n",
       "      <th>430</th>\n",
       "      <td>Sb2Se3</td>\n",
       "      <td>MnVSn4Se8</td>\n",
       "      <td>4.069929</td>\n",
       "      <td>3.955547</td>\n",
       "      <td>2.891678</td>\n",
       "      <td>2.810410</td>\n",
       "    </tr>\n",
       "    <tr>\n",
       "      <th>670</th>\n",
       "      <td>Bi2Se3</td>\n",
       "      <td>MnVSn4Se8</td>\n",
       "      <td>4.194677</td>\n",
       "      <td>3.955547</td>\n",
       "      <td>6.045421</td>\n",
       "      <td>5.700784</td>\n",
       "    </tr>\n",
       "    <tr>\n",
       "      <th>910</th>\n",
       "      <td>Sn2Te3</td>\n",
       "      <td>MnVSn4Se8</td>\n",
       "      <td>4.291884</td>\n",
       "      <td>3.955547</td>\n",
       "      <td>8.502904</td>\n",
       "      <td>7.836568</td>\n",
       "    </tr>\n",
       "    <tr>\n",
       "      <th>1150</th>\n",
       "      <td>Sb2Te3</td>\n",
       "      <td>MnVSn4Se8</td>\n",
       "      <td>4.317950</td>\n",
       "      <td>3.955547</td>\n",
       "      <td>9.161881</td>\n",
       "      <td>8.392931</td>\n",
       "    </tr>\n",
       "    <tr>\n",
       "      <th>1390</th>\n",
       "      <td>Bi2Te3</td>\n",
       "      <td>MnVSn4Se8</td>\n",
       "      <td>4.435656</td>\n",
       "      <td>3.955547</td>\n",
       "      <td>12.137614</td>\n",
       "      <td>10.823856</td>\n",
       "    </tr>\n",
       "  </tbody>\n",
       "</table>\n",
       "</div>"
      ],
      "text/plain": [
       "          BT        MBT      BT_a     MBT_a  MBT_mismatch  BT_mismatch\n",
       "190   Sn2Se3  MnVSn4Se8  4.038781  3.955547      2.104233     2.060868\n",
       "430   Sb2Se3  MnVSn4Se8  4.069929  3.955547      2.891678     2.810410\n",
       "670   Bi2Se3  MnVSn4Se8  4.194677  3.955547      6.045421     5.700784\n",
       "910   Sn2Te3  MnVSn4Se8  4.291884  3.955547      8.502904     7.836568\n",
       "1150  Sb2Te3  MnVSn4Se8  4.317950  3.955547      9.161881     8.392931\n",
       "1390  Bi2Te3  MnVSn4Se8  4.435656  3.955547     12.137614    10.823856"
      ]
     },
     "execution_count": 41,
     "metadata": {},
     "output_type": "execute_result"
    }
   ],
   "source": [
    "mismatch_df[mismatch_df.MBT==\"MnVSn4Se8\"]"
   ]
  },
  {
   "cell_type": "code",
   "execution_count": 42,
   "metadata": {},
   "outputs": [
    {
     "data": {
      "text/plain": [
       "3.997164"
      ]
     },
     "execution_count": 42,
     "metadata": {},
     "output_type": "execute_result"
    }
   ],
   "source": [
    "(4.038781+3.955547)/2"
   ]
  },
  {
   "cell_type": "code",
   "execution_count": 39,
   "metadata": {},
   "outputs": [
    {
     "data": {
      "text/plain": [
       "array([[<Axes: title={'center': 'BT_a'}>]], dtype=object)"
      ]
     },
     "execution_count": 39,
     "metadata": {},
     "output_type": "execute_result"
    },
    {
     "data": {
      "image/png": "[encoded data removed]",
      "text/plain": [
       "<Figure size 640x480 with 1 Axes>"
      ]
     },
     "metadata": {},
     "output_type": "display_data"
    },
    {
     "data": {
      "image/png": "[encoded data removed]",
      "text/plain": [
       "<Figure size 640x480 with 1 Axes>"
      ]
     },
     "metadata": {},
     "output_type": "display_data"
    }
   ],
   "source": [
    "mismatch_df.hist(\"MBT_a\")\n",
    "mismatch_df.hist(\"BT_a\")"
   ]
  },
  {
   "cell_type": "code",
   "execution_count": 50,
   "metadata": {},
   "outputs": [
    {
     "data": {
      "text/plain": [
       "Text(0.5, 1.0, 'strain %')"
      ]
     },
     "execution_count": 50,
     "metadata": {},
     "output_type": "execute_result"
    },
    {
     "data": {
      "image/png": "[encoded data removed]",
      "text/plain": [
       "<Figure size 640x480 with 1 Axes>"
      ]
     },
     "metadata": {},
     "output_type": "display_data"
    }
   ],
   "source": [
    "import matplotlib.pyplot as plt\n",
    "\n",
    "mismatch_df.hist(\"MBT_strain\")\n",
    "plt.title(\"strain %\")"
   ]
  },
  {
   "cell_type": "code",
   "execution_count": null,
   "metadata": {},
   "outputs": [],
   "source": []
  }
 ],
 "metadata": {
  "kernelspec": {
   "display_name": "Python 3 (ipykernel)",
   "language": "python",
   "name": "python3"
  },
  "language_info": {
   "codemirror_mode": {
    "name": "ipython",
    "version": 3
   },
   "file_extension": ".py",
   "mimetype": "text/x-python",
   "name": "python",
   "nbconvert_exporter": "python",
   "pygments_lexer": "ipython3",
   "version": "3.12.7"
  }
 },
 "nbformat": 4,
 "nbformat_minor": 4
}
